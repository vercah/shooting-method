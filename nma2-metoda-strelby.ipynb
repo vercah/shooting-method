{
 "cells": [
  {
   "cell_type": "code",
   "execution_count": 1,
   "metadata": {},
   "outputs": [],
   "source": [
    "# problem definition\n",
    "# y'' - 4xy + (4x^2 - 3) * y = e^{x^2}\n",
    "# x \\in (0;1)\n",
    "# y(0) = \\alpha\n",
    "# y(1) = \\beta"
   ]
  },
  {
   "cell_type": "code",
   "execution_count": 2,
   "metadata": {},
   "outputs": [],
   "source": [
    "# rewritten problem\n",
    "# y'' = 4xy' - (4x^2 - 3) * y + e^{x^2}\n",
    "# y(0) = \\alpha\n",
    "# y'(0) = A"
   ]
  },
  {
   "cell_type": "code",
   "execution_count": 7,
   "metadata": {},
   "outputs": [],
   "source": [
    "import math"
   ]
  },
  {
   "cell_type": "code",
   "execution_count": 10,
   "metadata": {},
   "outputs": [],
   "source": [
    "def get_right_hand_side(x, y, dy) -> float:\n",
    "    return 4*x*dy-(4*x*x-3)*y + pow(math.e, x*x)\n",
    "\n",
    "def get_coefficients(h, x, y, dy):\n",
    "    f = get_right_hand_side(x, y, dy)\n",
    "    k1 = (h*h/2)*f\n",
    "    f = get_right_hand_side(x+h/2, y+h*dy/2+k1/4, dy+k1/h)\n",
    "    k2 = (h*h/2)*f\n",
    "    f = get_right_hand_side(x+h/2, y+h*dy/2+k2/4, dy+k2/h)\n",
    "    k3 = (h*h/2)*f\n",
    "    f = get_right_hand_side(x+h, y+h*dy+k3, dy+2*k3/h)\n",
    "    k4 = (h*h/2)*f    \n",
    "    return k1, k2, k3, k4"
   ]
  },
  {
   "cell_type": "code",
   "execution_count": 14,
   "metadata": {},
   "outputs": [],
   "source": [
    "# solve rewritten problem using Runge-Kutta-Nyström method\n",
    "step = 0.1\n",
    "stop_time = 1\n",
    "time = 0\n",
    "#while (time < stop_time):\n",
    "    "
   ]
  },
  {
   "cell_type": "code",
   "execution_count": null,
   "metadata": {},
   "outputs": [],
   "source": []
  }
 ],
 "metadata": {
  "kernelspec": {
   "display_name": "Python 3",
   "language": "python",
   "name": "python3"
  },
  "language_info": {
   "codemirror_mode": {
    "name": "ipython",
    "version": 3
   },
   "file_extension": ".py",
   "mimetype": "text/x-python",
   "name": "python",
   "nbconvert_exporter": "python",
   "pygments_lexer": "ipython3",
   "version": "3.7.6"
  }
 },
 "nbformat": 4,
 "nbformat_minor": 4
}
